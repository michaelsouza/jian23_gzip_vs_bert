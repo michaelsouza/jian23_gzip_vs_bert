{
  "cells": [
    {
      "cell_type": "markdown",
      "metadata": {
        "id": "O7wpbGJqwhLj"
      },
      "source": [
        "Jiang, Zhiying, et al. \"“Low-Resource” Text Classification: A Parameter-Free Classification Method with Compressors.\" Findings of the Association for Computational Linguistics: ACL 2023. 2023.\n",
        "\n",
        "https://www.kaggle.com/code/lakshmi25npathi/sentiment-analysis-of-imdb-movie-reviews\n",
        "\n",
        "https://www.kaggle.com/datasets/yasserh/imdb-movie-ratings-sentiment-analysis?utm_medium=social&utm_campaign=kaggle-dataset-share&utm_source=twitter \n",
        "\n",
        "https://pytorch.org/text/stable/datasets.html\n",
        "\n",
        "https://www.geeksforgeeks.org/sentiment-classification-using-bert/\n",
        "\n",
        "https://github.com/Sentdex/Simple-kNN-Gzip\n",
        "\n",
        "https://kenschutte.com/gzip-knn-paper/\n",
        "\n",
        "https://kenschutte.com/gzip-knn-paper2/\n",
        "\n",
        "https://chat.openai.com/c/a800eb56-29ff-424d-99f9-9ff9bca61adf"
      ]
    },
    {
      "cell_type": "code",
      "execution_count": 1,
      "metadata": {
        "colab": {
          "base_uri": "https://localhost:8080/"
        },
        "id": "8reFCxV0grI3",
        "outputId": "491dd9f0-1de1-43c4-cbc6-054522480972"
      },
      "outputs": [
        {
          "name": "stdout",
          "output_type": "stream",
          "text": [
            "datasets/movie.zip\n",
            "/home/michael/gitrepos/jian23_gzip_vs_bert\n",
            "Files extracted to /home/michael/gitrepos/jian23_gzip_vs_bert\n"
          ]
        }
      ],
      "source": [
        "import zipfile\n",
        "import os\n",
        "\n",
        "# Path to your zip file\n",
        "zip_path = 'datasets/movie.zip'\n",
        "print(zip_path)\n",
        "\n",
        "# Directory where you want to extract the contents, change as needed\n",
        "cwd = os.getcwd()\n",
        "print(cwd)\n",
        "\n",
        "# Create the directory if it doesn't exist\n",
        "os.makedirs(cwd, exist_ok=True)\n",
        "\n",
        "# Open the zip file in read mode\n",
        "with zipfile.ZipFile(zip_path, 'r') as zip_ref:\n",
        "    # Extract all the contents into the directory specified\n",
        "    zip_ref.extractall(cwd)\n",
        "\n",
        "print(f\"Files extracted to {cwd}\")\n"
      ]
    },
    {
      "cell_type": "code",
      "execution_count": 2,
      "metadata": {
        "colab": {
          "base_uri": "https://localhost:8080/",
          "height": 424
        },
        "id": "sFN-r9Wmjw2i",
        "outputId": "b1907c05-6a1e-4e69-8569-6e688630a98f"
      },
      "outputs": [
        {
          "data": {
            "text/html": [
              "<div>\n",
              "<style scoped>\n",
              "    .dataframe tbody tr th:only-of-type {\n",
              "        vertical-align: middle;\n",
              "    }\n",
              "\n",
              "    .dataframe tbody tr th {\n",
              "        vertical-align: top;\n",
              "    }\n",
              "\n",
              "    .dataframe thead th {\n",
              "        text-align: right;\n",
              "    }\n",
              "</style>\n",
              "<table border=\"1\" class=\"dataframe\">\n",
              "  <thead>\n",
              "    <tr style=\"text-align: right;\">\n",
              "      <th></th>\n",
              "      <th>review</th>\n",
              "      <th>label</th>\n",
              "    </tr>\n",
              "  </thead>\n",
              "  <tbody>\n",
              "    <tr>\n",
              "      <th>0</th>\n",
              "      <td>I grew up (b. 1965) watching and loving the Th...</td>\n",
              "      <td>0</td>\n",
              "    </tr>\n",
              "    <tr>\n",
              "      <th>1</th>\n",
              "      <td>When I put this movie in my DVD player, and sa...</td>\n",
              "      <td>0</td>\n",
              "    </tr>\n",
              "    <tr>\n",
              "      <th>2</th>\n",
              "      <td>Why do people who do not know what a particula...</td>\n",
              "      <td>0</td>\n",
              "    </tr>\n",
              "    <tr>\n",
              "      <th>3</th>\n",
              "      <td>Even though I have great interest in Biblical ...</td>\n",
              "      <td>0</td>\n",
              "    </tr>\n",
              "    <tr>\n",
              "      <th>4</th>\n",
              "      <td>Im a die hard Dads Army fan and nothing will e...</td>\n",
              "      <td>1</td>\n",
              "    </tr>\n",
              "    <tr>\n",
              "      <th>...</th>\n",
              "      <td>...</td>\n",
              "      <td>...</td>\n",
              "    </tr>\n",
              "    <tr>\n",
              "      <th>39995</th>\n",
              "      <td>\"Western Union\" is something of a forgotten cl...</td>\n",
              "      <td>1</td>\n",
              "    </tr>\n",
              "    <tr>\n",
              "      <th>39996</th>\n",
              "      <td>This movie is an incredible piece of work. It ...</td>\n",
              "      <td>1</td>\n",
              "    </tr>\n",
              "    <tr>\n",
              "      <th>39997</th>\n",
              "      <td>My wife and I watched this movie because we pl...</td>\n",
              "      <td>0</td>\n",
              "    </tr>\n",
              "    <tr>\n",
              "      <th>39998</th>\n",
              "      <td>When I first watched Flatliners, I was amazed....</td>\n",
              "      <td>1</td>\n",
              "    </tr>\n",
              "    <tr>\n",
              "      <th>39999</th>\n",
              "      <td>Why would this film be so good, but only gross...</td>\n",
              "      <td>1</td>\n",
              "    </tr>\n",
              "  </tbody>\n",
              "</table>\n",
              "<p>40000 rows × 2 columns</p>\n",
              "</div>"
            ],
            "text/plain": [
              "                                                  review  label\n",
              "0      I grew up (b. 1965) watching and loving the Th...      0\n",
              "1      When I put this movie in my DVD player, and sa...      0\n",
              "2      Why do people who do not know what a particula...      0\n",
              "3      Even though I have great interest in Biblical ...      0\n",
              "4      Im a die hard Dads Army fan and nothing will e...      1\n",
              "...                                                  ...    ...\n",
              "39995  \"Western Union\" is something of a forgotten cl...      1\n",
              "39996  This movie is an incredible piece of work. It ...      1\n",
              "39997  My wife and I watched this movie because we pl...      0\n",
              "39998  When I first watched Flatliners, I was amazed....      1\n",
              "39999  Why would this film be so good, but only gross...      1\n",
              "\n",
              "[40000 rows x 2 columns]"
            ]
          },
          "execution_count": 2,
          "metadata": {},
          "output_type": "execute_result"
        }
      ],
      "source": [
        "import os\n",
        "import pandas as pd\n",
        "\n",
        "df = pd.read_csv(os.path.join(cwd, 'movie.csv'))\n",
        "\n",
        "df.rename(columns={'text': 'review'}, inplace=True)\n",
        "\n",
        "df"
      ]
    },
    {
      "cell_type": "code",
      "execution_count": 3,
      "metadata": {
        "colab": {
          "base_uri": "https://localhost:8080/"
        },
        "id": "r9AtjJpOkjaO",
        "outputId": "be9beea3-21cc-45c4-c038-06e455cbae53"
      },
      "outputs": [
        {
          "name": "stdout",
          "output_type": "stream",
          "text": [
            "Number of text entries: 39723\n",
            "Number of sentiment entries: 2\n"
          ]
        },
        {
          "data": {
            "text/html": [
              "<div>\n",
              "<style scoped>\n",
              "    .dataframe tbody tr th:only-of-type {\n",
              "        vertical-align: middle;\n",
              "    }\n",
              "\n",
              "    .dataframe tbody tr th {\n",
              "        vertical-align: top;\n",
              "    }\n",
              "\n",
              "    .dataframe thead th {\n",
              "        text-align: right;\n",
              "    }\n",
              "</style>\n",
              "<table border=\"1\" class=\"dataframe\">\n",
              "  <thead>\n",
              "    <tr style=\"text-align: right;\">\n",
              "      <th></th>\n",
              "      <th>review</th>\n",
              "    </tr>\n",
              "    <tr>\n",
              "      <th>sentiment</th>\n",
              "      <th></th>\n",
              "    </tr>\n",
              "  </thead>\n",
              "  <tbody>\n",
              "    <tr>\n",
              "      <th>negative</th>\n",
              "      <td>20019</td>\n",
              "    </tr>\n",
              "    <tr>\n",
              "      <th>positive</th>\n",
              "      <td>19981</td>\n",
              "    </tr>\n",
              "  </tbody>\n",
              "</table>\n",
              "</div>"
            ],
            "text/plain": [
              "           review\n",
              "sentiment        \n",
              "negative    20019\n",
              "positive    19981"
            ]
          },
          "execution_count": 3,
          "metadata": {},
          "output_type": "execute_result"
        }
      ],
      "source": [
        "review_counts = df['review'].value_counts()\n",
        "\n",
        "print(f\"Number of text entries: {len(review_counts)}\")\n",
        "\n",
        "def sentiment_word(row):\n",
        "    return 'positive' if row['label'] == 1 else 'negative'\n",
        "\n",
        "df['sentiment'] = df.apply(sentiment_word, axis=1)\n",
        "\n",
        "# Count the number of occurrences of each sentiment (positive/negative)\n",
        "sentiment_counts = df['sentiment'].value_counts()\n",
        "\n",
        "print(f\"Number of sentiment entries: {len(sentiment_counts)}\")\n",
        "\n",
        "df[['review','sentiment']].groupby('sentiment').count()"
      ]
    },
    {
      "cell_type": "code",
      "execution_count": 4,
      "metadata": {
        "colab": {
          "base_uri": "https://localhost:8080/",
          "height": 206
        },
        "id": "tJ73YUt7pQKy",
        "outputId": "c70a3a98-f105-45ef-d776-d732e701ae20"
      },
      "outputs": [
        {
          "data": {
            "text/html": [
              "<div>\n",
              "<style scoped>\n",
              "    .dataframe tbody tr th:only-of-type {\n",
              "        vertical-align: middle;\n",
              "    }\n",
              "\n",
              "    .dataframe tbody tr th {\n",
              "        vertical-align: top;\n",
              "    }\n",
              "\n",
              "    .dataframe thead th {\n",
              "        text-align: right;\n",
              "    }\n",
              "</style>\n",
              "<table border=\"1\" class=\"dataframe\">\n",
              "  <thead>\n",
              "    <tr style=\"text-align: right;\">\n",
              "      <th></th>\n",
              "      <th>review</th>\n",
              "      <th>label</th>\n",
              "      <th>sentiment</th>\n",
              "      <th>review_length</th>\n",
              "    </tr>\n",
              "  </thead>\n",
              "  <tbody>\n",
              "    <tr>\n",
              "      <th>0</th>\n",
              "      <td>I grew up (b. 1965) watching and loving the Th...</td>\n",
              "      <td>0</td>\n",
              "      <td>negative</td>\n",
              "      <td>874</td>\n",
              "    </tr>\n",
              "    <tr>\n",
              "      <th>1</th>\n",
              "      <td>When I put this movie in my DVD player, and sa...</td>\n",
              "      <td>0</td>\n",
              "      <td>negative</td>\n",
              "      <td>1811</td>\n",
              "    </tr>\n",
              "    <tr>\n",
              "      <th>2</th>\n",
              "      <td>Why do people who do not know what a particula...</td>\n",
              "      <td>0</td>\n",
              "      <td>negative</td>\n",
              "      <td>983</td>\n",
              "    </tr>\n",
              "    <tr>\n",
              "      <th>3</th>\n",
              "      <td>Even though I have great interest in Biblical ...</td>\n",
              "      <td>0</td>\n",
              "      <td>negative</td>\n",
              "      <td>351</td>\n",
              "    </tr>\n",
              "    <tr>\n",
              "      <th>4</th>\n",
              "      <td>Im a die hard Dads Army fan and nothing will e...</td>\n",
              "      <td>1</td>\n",
              "      <td>positive</td>\n",
              "      <td>983</td>\n",
              "    </tr>\n",
              "  </tbody>\n",
              "</table>\n",
              "</div>"
            ],
            "text/plain": [
              "                                              review  label sentiment  \\\n",
              "0  I grew up (b. 1965) watching and loving the Th...      0  negative   \n",
              "1  When I put this movie in my DVD player, and sa...      0  negative   \n",
              "2  Why do people who do not know what a particula...      0  negative   \n",
              "3  Even though I have great interest in Biblical ...      0  negative   \n",
              "4  Im a die hard Dads Army fan and nothing will e...      1  positive   \n",
              "\n",
              "   review_length  \n",
              "0            874  \n",
              "1           1811  \n",
              "2            983  \n",
              "3            351  \n",
              "4            983  "
            ]
          },
          "execution_count": 4,
          "metadata": {},
          "output_type": "execute_result"
        }
      ],
      "source": [
        "# Create a new column in the DataFrame that contains the length of each review\n",
        "df['review_length'] = df['review'].apply(len)\n",
        "\n",
        "# Display the first few rows of the DataFrame to confirm the new column\n",
        "df.head()"
      ]
    },
    {
      "cell_type": "code",
      "execution_count": 5,
      "metadata": {
        "colab": {
          "base_uri": "https://localhost:8080/",
          "height": 547
        },
        "id": "-tuO2_g1pSqS",
        "outputId": "aacd7ace-e622-46f1-e791-3c5dda526a6e"
      },
      "outputs": [
        {
          "data": {
            "image/png": "[encoded data removed]",
            "text/plain": [
              "<Figure size 600x400 with 1 Axes>"
            ]
          },
          "metadata": {},
          "output_type": "display_data"
        }
      ],
      "source": [
        "import matplotlib.pyplot as plt\n",
        "\n",
        "# Create histograms for review lengths, differentiated by sentiment\n",
        "plt.figure(figsize=(6, 4))\n",
        "\n",
        "# Plot for positive reviews\n",
        "plt.hist(df[df['sentiment'] == 'positive']['review_length'], bins=50, alpha=0.5, label='Positive')\n",
        "\n",
        "# Plot for negative reviews\n",
        "plt.hist(df[df['sentiment'] == 'negative']['review_length'], bins=50, alpha=0.5, label='Negative')\n",
        "\n",
        "plt.xlabel('Review Length (Number of Characters)')\n",
        "plt.ylabel('Frequency')\n",
        "plt.title('Histogram of Review Lengths by Sentiment')\n",
        "plt.legend()\n",
        "\n",
        "plt.show()"
      ]
    },
    {
      "cell_type": "code",
      "execution_count": 6,
      "metadata": {
        "colab": {
          "base_uri": "https://localhost:8080/",
          "height": 612
        },
        "id": "f3OBKhN0paDn",
        "outputId": "7cd70afd-b2cb-4baf-92a2-07ba023abe07"
      },
      "outputs": [
        {
          "name": "stdout",
          "output_type": "stream",
          "text": [
            "Mann-Whitney U Test:\n",
            "Statistic: 199069775.0, P-value: 0.4205702929316134\n",
            "\n",
            "No significant difference in review lengths (fail to reject H0)\n"
          ]
        },
        {
          "data": {
            "image/png": "[encoded data removed]",
            "text/plain": [
              "<Figure size 600x400 with 1 Axes>"
            ]
          },
          "metadata": {},
          "output_type": "display_data"
        }
      ],
      "source": [
        "from scipy.stats import mannwhitneyu\n",
        "import seaborn as sns\n",
        "\n",
        "# Mann-Whitney U Test\n",
        "stat, p = mannwhitneyu(df[df['sentiment'] == 'positive']['review_length'],\n",
        "                       df[df['sentiment'] == 'negative']['review_length'])\n",
        "\n",
        "print(f\"Mann-Whitney U Test:\\nStatistic: {stat}, P-value: {p}\\n\")\n",
        "\n",
        "# Interpretation of the test result\n",
        "alpha = 0.05\n",
        "if p > alpha:\n",
        "    print(\"No significant difference in review lengths (fail to reject H0)\")\n",
        "else:\n",
        "    print(\"Significant difference in review lengths (reject H0)\")\n",
        "\n",
        "# Box Plot Visualization\n",
        "plt.figure(figsize=(6, 4))\n",
        "sns.boxplot(x='sentiment', y='review_length', data=df)\n",
        "plt.title('Box Plot of Review Lengths by Sentiment')\n",
        "plt.xlabel('Sentiment')\n",
        "plt.ylabel('Review Length (Number of Characters)')\n",
        "plt.show()\n"
      ]
    },
    {
      "cell_type": "code",
      "execution_count": 14,
      "metadata": {
        "colab": {
          "base_uri": "https://localhost:8080/"
        },
        "id": "HcUa3EDupVjB",
        "outputId": "73f8e59a-d3a6-4a7b-dcf4-f3647dc2851f"
      },
      "outputs": [
        {
          "name": "stdout",
          "output_type": "stream",
          "text": [
            "Training set size: 32000 reviews\n",
            "Test set size: 8000 reviews\n"
          ]
        }
      ],
      "source": [
        "from sklearn.model_selection import train_test_split\n",
        "\n",
        "# Splitting the dataset into training and test sets\n",
        "train_df, test_df = train_test_split(df, test_size=0.2, random_state=42)\n",
        "\n",
        "# Checking the size of each set\n",
        "print(f\"Training set size: {train_df.shape[0]} reviews\")\n",
        "print(f\"Test set size: {test_df.shape[0]} reviews\")"
      ]
    },
    {
      "cell_type": "code",
      "execution_count": 16,
      "metadata": {},
      "outputs": [
        {
          "name": "stdout",
          "output_type": "stream",
          "text": [
            "Number of CPU cores: 12\n"
          ]
        },
        {
          "data": {
            "text/html": [
              "<div>\n",
              "<style scoped>\n",
              "    .dataframe tbody tr th:only-of-type {\n",
              "        vertical-align: middle;\n",
              "    }\n",
              "\n",
              "    .dataframe tbody tr th {\n",
              "        vertical-align: top;\n",
              "    }\n",
              "\n",
              "    .dataframe thead th {\n",
              "        text-align: right;\n",
              "    }\n",
              "</style>\n",
              "<table border=\"1\" class=\"dataframe\">\n",
              "  <thead>\n",
              "    <tr style=\"text-align: right;\">\n",
              "      <th></th>\n",
              "      <th>review</th>\n",
              "      <th>label</th>\n",
              "      <th>sentiment</th>\n",
              "      <th>review_length</th>\n",
              "      <th>compressed_length</th>\n",
              "    </tr>\n",
              "  </thead>\n",
              "  <tbody>\n",
              "    <tr>\n",
              "      <th>14307</th>\n",
              "      <td>I watched it last night and again this morning...</td>\n",
              "      <td>1</td>\n",
              "      <td>positive</td>\n",
              "      <td>690</td>\n",
              "      <td>407</td>\n",
              "    </tr>\n",
              "    <tr>\n",
              "      <th>17812</th>\n",
              "      <td>although i liked this Western,i do have to say...</td>\n",
              "      <td>1</td>\n",
              "      <td>positive</td>\n",
              "      <td>673</td>\n",
              "      <td>391</td>\n",
              "    </tr>\n",
              "    <tr>\n",
              "      <th>11020</th>\n",
              "      <td>I sat down to watch a documentary about Puerto...</td>\n",
              "      <td>0</td>\n",
              "      <td>negative</td>\n",
              "      <td>1774</td>\n",
              "      <td>916</td>\n",
              "    </tr>\n",
              "    <tr>\n",
              "      <th>15158</th>\n",
              "      <td>This was probably intended as an \"arty\" crime ...</td>\n",
              "      <td>0</td>\n",
              "      <td>negative</td>\n",
              "      <td>334</td>\n",
              "      <td>222</td>\n",
              "    </tr>\n",
              "    <tr>\n",
              "      <th>24990</th>\n",
              "      <td>The summary provided by my cable TV guide made...</td>\n",
              "      <td>0</td>\n",
              "      <td>negative</td>\n",
              "      <td>1181</td>\n",
              "      <td>664</td>\n",
              "    </tr>\n",
              "  </tbody>\n",
              "</table>\n",
              "</div>"
            ],
            "text/plain": [
              "                                                  review  label sentiment  \\\n",
              "14307  I watched it last night and again this morning...      1  positive   \n",
              "17812  although i liked this Western,i do have to say...      1  positive   \n",
              "11020  I sat down to watch a documentary about Puerto...      0  negative   \n",
              "15158  This was probably intended as an \"arty\" crime ...      0  negative   \n",
              "24990  The summary provided by my cable TV guide made...      0  negative   \n",
              "\n",
              "       review_length  compressed_length  \n",
              "14307            690                407  \n",
              "17812            673                391  \n",
              "11020           1774                916  \n",
              "15158            334                222  \n",
              "24990           1181                664  "
            ]
          },
          "execution_count": 16,
          "metadata": {},
          "output_type": "execute_result"
        }
      ],
      "source": [
        "import multiprocessing\n",
        "import zlib\n",
        "\n",
        "# Check the number of available CPU cores for parallelization\n",
        "cpu_cores = multiprocessing.cpu_count()\n",
        "print(f\"Number of CPU cores: {cpu_cores}\")\n",
        "\n",
        "# in parallel, add a column with the length of each compressed review\n",
        "\n",
        "def compress_text(text):\n",
        "    return len(zlib.compress(text.encode('utf-8')))\n",
        "\n",
        "# Use the number of available CPU cores for parallelization\n",
        "train_df['compressed_length'] = train_df['review'].apply(compress_text)\n",
        "test_df['compressed_length'] = test_df['review'].apply(compress_text)\n",
        "\n",
        "train_df.head()"
      ]
    },
    {
      "cell_type": "code",
      "execution_count": 21,
      "metadata": {
        "colab": {
          "base_uri": "https://localhost:8080/"
        },
        "id": "VZMeDP5Ppgbc",
        "outputId": "72138499-43ff-4eb9-9da3-e4488252d52d"
      },
      "outputs": [
        {
          "data": {
            "image/png": "[encoded data removed]",
            "text/plain": [
              "<Figure size 600x400 with 1 Axes>"
            ]
          },
          "metadata": {},
          "output_type": "display_data"
        }
      ],
      "source": [
        "# using seaborn, historgram of compressed review lengths, color by sentiment\n",
        "plt.figure(figsize=(6, 4))\n",
        "sns.histplot(data=train_df, x='compressed_length', hue='sentiment', bins=50, kde=False)\n",
        "plt.title('Histogram of Compressed Review Lengths')\n",
        "plt.xlabel('Compressed Review Length (Bytes)')\n",
        "plt.ylabel('Frequency')\n",
        "plt.show()"
      ]
    },
    {
      "cell_type": "code",
      "execution_count": 22,
      "metadata": {
        "colab": {
          "base_uri": "https://localhost:8080/",
          "height": 206
        },
        "id": "zLNfn9Xqplqa",
        "outputId": "20da9ca5-ee68-42fc-cae9-77c246d256cd"
      },
      "outputs": [],
      "source": [
        "chunk_train_df = train_df.sample(n=100, random_state=42)\n",
        "chunk_test_df = test_df.sample(n=100, random_state=42)"
      ]
    },
    {
      "cell_type": "code",
      "execution_count": 25,
      "metadata": {
        "colab": {
          "base_uri": "https://localhost:8080/"
        },
        "id": "Gae0MDv9prCA",
        "outputId": "8f57b25e-d753-4638-e9c0-299b08e6d494"
      },
      "outputs": [
        {
          "data": {
            "text/html": [
              "<div>\n",
              "<style scoped>\n",
              "    .dataframe tbody tr th:only-of-type {\n",
              "        vertical-align: middle;\n",
              "    }\n",
              "\n",
              "    .dataframe tbody tr th {\n",
              "        vertical-align: top;\n",
              "    }\n",
              "\n",
              "    .dataframe thead th {\n",
              "        text-align: right;\n",
              "    }\n",
              "</style>\n",
              "<table border=\"1\" class=\"dataframe\">\n",
              "  <thead>\n",
              "    <tr style=\"text-align: right;\">\n",
              "      <th></th>\n",
              "      <th>review</th>\n",
              "      <th>label</th>\n",
              "      <th>sentiment</th>\n",
              "      <th>review_length</th>\n",
              "      <th>compressed_length</th>\n",
              "      <th>ncd</th>\n",
              "    </tr>\n",
              "  </thead>\n",
              "  <tbody>\n",
              "    <tr>\n",
              "      <th>22076</th>\n",
              "      <td>Like most musicals of the era, one must check ...</td>\n",
              "      <td>0</td>\n",
              "      <td>negative</td>\n",
              "      <td>1111</td>\n",
              "      <td>612</td>\n",
              "      <td>[0.032679738562091505, 0.9050535987748851, 0.9...</td>\n",
              "    </tr>\n",
              "    <tr>\n",
              "      <th>33570</th>\n",
              "      <td>This movie is about the crew of a spaceship wh...</td>\n",
              "      <td>1</td>\n",
              "      <td>positive</td>\n",
              "      <td>1206</td>\n",
              "      <td>653</td>\n",
              "      <td>[0.900459418070444, 0.03215926493108729, 0.932...</td>\n",
              "    </tr>\n",
              "    <tr>\n",
              "      <th>28139</th>\n",
              "      <td>So when i was little i got this movie as a pre...</td>\n",
              "      <td>1</td>\n",
              "      <td>positive</td>\n",
              "      <td>723</td>\n",
              "      <td>387</td>\n",
              "      <td>[0.9166666666666666, 0.9310872894333844, 0.033...</td>\n",
              "    </tr>\n",
              "    <tr>\n",
              "      <th>31046</th>\n",
              "      <td>After being bitten by a bat in a cave,a doctor...</td>\n",
              "      <td>0</td>\n",
              "      <td>negative</td>\n",
              "      <td>731</td>\n",
              "      <td>437</td>\n",
              "      <td>[0.9166666666666666, 0.9234303215926493, 0.917...</td>\n",
              "    </tr>\n",
              "    <tr>\n",
              "      <th>26686</th>\n",
              "      <td>I wouldn't call myself a big fan of the genre ...</td>\n",
              "      <td>0</td>\n",
              "      <td>negative</td>\n",
              "      <td>703</td>\n",
              "      <td>418</td>\n",
              "      <td>[0.9101307189542484, 0.9111791730474732, 0.885...</td>\n",
              "    </tr>\n",
              "    <tr>\n",
              "      <th>...</th>\n",
              "      <td>...</td>\n",
              "      <td>...</td>\n",
              "      <td>...</td>\n",
              "      <td>...</td>\n",
              "      <td>...</td>\n",
              "      <td>...</td>\n",
              "    </tr>\n",
              "    <tr>\n",
              "      <th>25256</th>\n",
              "      <td>\"Electra Glide in Blue\" is a slow moving B-fli...</td>\n",
              "      <td>0</td>\n",
              "      <td>negative</td>\n",
              "      <td>362</td>\n",
              "      <td>240</td>\n",
              "      <td>[0.9444444444444444, 0.9234303215926493, 0.894...</td>\n",
              "    </tr>\n",
              "    <tr>\n",
              "      <th>18000</th>\n",
              "      <td>Thirty years after its initial release, the th...</td>\n",
              "      <td>1</td>\n",
              "      <td>positive</td>\n",
              "      <td>5376</td>\n",
              "      <td>2629</td>\n",
              "      <td>[0.9554963864587296, 0.9589197413465196, 0.968...</td>\n",
              "    </tr>\n",
              "    <tr>\n",
              "      <th>11175</th>\n",
              "      <td>This is one of the bleakest, the most harrowin...</td>\n",
              "      <td>1</td>\n",
              "      <td>positive</td>\n",
              "      <td>743</td>\n",
              "      <td>433</td>\n",
              "      <td>[0.8921568627450981, 0.8989280245022971, 0.893...</td>\n",
              "    </tr>\n",
              "    <tr>\n",
              "      <th>15091</th>\n",
              "      <td>The only good thing about this movie was the s...</td>\n",
              "      <td>0</td>\n",
              "      <td>negative</td>\n",
              "      <td>650</td>\n",
              "      <td>394</td>\n",
              "      <td>[0.9003267973856209, 0.9249617151607963, 0.840...</td>\n",
              "    </tr>\n",
              "    <tr>\n",
              "      <th>16808</th>\n",
              "      <td>Even if it's not labeled as a Slasher flick, i...</td>\n",
              "      <td>1</td>\n",
              "      <td>positive</td>\n",
              "      <td>3189</td>\n",
              "      <td>1449</td>\n",
              "      <td>[0.937888198757764, 0.9337474120082816, 0.9551...</td>\n",
              "    </tr>\n",
              "  </tbody>\n",
              "</table>\n",
              "<p>100 rows × 6 columns</p>\n",
              "</div>"
            ],
            "text/plain": [
              "                                                  review  label sentiment  \\\n",
              "22076  Like most musicals of the era, one must check ...      0  negative   \n",
              "33570  This movie is about the crew of a spaceship wh...      1  positive   \n",
              "28139  So when i was little i got this movie as a pre...      1  positive   \n",
              "31046  After being bitten by a bat in a cave,a doctor...      0  negative   \n",
              "26686  I wouldn't call myself a big fan of the genre ...      0  negative   \n",
              "...                                                  ...    ...       ...   \n",
              "25256  \"Electra Glide in Blue\" is a slow moving B-fli...      0  negative   \n",
              "18000  Thirty years after its initial release, the th...      1  positive   \n",
              "11175  This is one of the bleakest, the most harrowin...      1  positive   \n",
              "15091  The only good thing about this movie was the s...      0  negative   \n",
              "16808  Even if it's not labeled as a Slasher flick, i...      1  positive   \n",
              "\n",
              "       review_length  compressed_length  \\\n",
              "22076           1111                612   \n",
              "33570           1206                653   \n",
              "28139            723                387   \n",
              "31046            731                437   \n",
              "26686            703                418   \n",
              "...              ...                ...   \n",
              "25256            362                240   \n",
              "18000           5376               2629   \n",
              "11175            743                433   \n",
              "15091            650                394   \n",
              "16808           3189               1449   \n",
              "\n",
              "                                                     ncd  \n",
              "22076  [0.032679738562091505, 0.9050535987748851, 0.9...  \n",
              "33570  [0.900459418070444, 0.03215926493108729, 0.932...  \n",
              "28139  [0.9166666666666666, 0.9310872894333844, 0.033...  \n",
              "31046  [0.9166666666666666, 0.9234303215926493, 0.917...  \n",
              "26686  [0.9101307189542484, 0.9111791730474732, 0.885...  \n",
              "...                                                  ...  \n",
              "25256  [0.9444444444444444, 0.9234303215926493, 0.894...  \n",
              "18000  [0.9554963864587296, 0.9589197413465196, 0.968...  \n",
              "11175  [0.8921568627450981, 0.8989280245022971, 0.893...  \n",
              "15091  [0.9003267973856209, 0.9249617151607963, 0.840...  \n",
              "16808  [0.937888198757764, 0.9337474120082816, 0.9551...  \n",
              "\n",
              "[100 rows x 6 columns]"
            ]
          },
          "execution_count": 25,
          "metadata": {},
          "output_type": "execute_result"
        }
      ],
      "source": [
        "from concurrent.futures import ProcessPoolExecutor\n",
        "import numpy as np\n",
        "\n",
        "\n",
        "# Taking a very small chunk for demonstration purposes\n",
        "chunk_train_df = train_df.sample(n=100, random_state=42)\n",
        "\n",
        "def ncd(x, y):\n",
        "    \"\"\"\n",
        "    Computes the Normalized Compression Distance between two strings.\n",
        "    \"\"\"\n",
        "    x_len = len(zlib.compress(x.encode()))\n",
        "    y_len = len(zlib.compress(y.encode()))\n",
        "    xy_len = len(zlib.compress((\" \".join([x, y])).encode()))\n",
        "    return (xy_len - min(x_len, y_len)) / max(x_len, y_len)\n",
        "\n",
        "def add_ncd_feature(train_df, test_df):\n",
        "    \"\"\"\n",
        "    Adds a new feature column called 'ncd' to the test_df DataFrame.\n",
        "    The 'ncd' column contains the NCD values for each review pair.\n",
        "    \"\"\"\n",
        "    ncd_matrix = np.zeros((test_df.shape[0], train_df.shape[0]))\n",
        "    for i, testRow in test_df.reset_index().iterrows():\n",
        "        x_len = testRow['compressed_length']\n",
        "        for j, trainRow in train_df.reset_index().iterrows():\n",
        "            y_len = trainRow['compressed_length']\n",
        "            # Concatenate the two reviews and compute the NCD\n",
        "            xy_len = len(zlib.compress((\" \".join([testRow['review'], trainRow['review']])).encode()))\n",
        "            ncd_matrix[i, j] = (xy_len - min(x_len, y_len)) / max(x_len, y_len)\n",
        "\n",
        "    test_df['ncd'] = ncd_matrix.tolist()\n",
        "    return test_df\n",
        "            \n",
        "\n",
        "chunk_train_df = add_ncd_feature(chunk_train_df, chunk_train_df)\n",
        "\n",
        "chunk_train_df"
      ]
    },
    {
      "cell_type": "code",
      "execution_count": 26,
      "metadata": {},
      "outputs": [
        {
          "name": "stdout",
          "output_type": "stream",
          "text": [
            "              precision    recall  f1-score   support\n",
            "\n",
            "    Negative       0.50      0.57      0.53        42\n",
            "    Positive       0.65      0.59      0.62        58\n",
            "\n",
            "    accuracy                           0.58       100\n",
            "   macro avg       0.58      0.58      0.58       100\n",
            "weighted avg       0.59      0.58      0.58       100\n",
            "\n"
          ]
        }
      ],
      "source": [
        "from sklearn.neighbors import KNeighborsClassifier\n",
        "from sklearn.metrics import classification_report\n",
        "\n",
        "chunk_test_df = add_ncd_feature(chunk_train_df, chunk_test_df)\n",
        "\n",
        "# Convert the 'ncd' column lists into a format suitable for scikit-learn\n",
        "X_train = np.array(chunk_train_df['ncd'].tolist())\n",
        "y_train = chunk_train_df['sentiment'].values\n",
        "\n",
        "X_test = np.array(chunk_test_df['ncd'].tolist())\n",
        "y_test = chunk_test_df['sentiment'].values\n",
        "\n",
        "# Initialize the kNN classifier\n",
        "knn = KNeighborsClassifier(n_neighbors=3)\n",
        "\n",
        "# Train the kNN classifier\n",
        "knn.fit(X_train, y_train)\n",
        "\n",
        "# Predict sentiments for the testing set\n",
        "predicted_sentiments = knn.predict(X_test)\n",
        "\n",
        "# Evaluate the classifier\n",
        "print(classification_report(y_test, predicted_sentiments, target_names=['Negative', 'Positive']))\n"
      ]
    },
    {
      "cell_type": "code",
      "execution_count": null,
      "metadata": {},
      "outputs": [],
      "source": []
    }
  ],
  "metadata": {
    "colab": {
      "provenance": []
    },
    "kernelspec": {
      "display_name": "Python 3",
      "name": "python3"
    },
    "language_info": {
      "codemirror_mode": {
        "name": "ipython",
        "version": 3
      },
      "file_extension": ".py",
      "mimetype": "text/x-python",
      "name": "python",
      "nbconvert_exporter": "python",
      "pygments_lexer": "ipython3",
      "version": "3.10.12"
    }
  },
  "nbformat": 4,
  "nbformat_minor": 0
}
